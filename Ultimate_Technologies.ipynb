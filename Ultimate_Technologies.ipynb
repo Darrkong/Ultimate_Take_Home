{
 "cells": [
  {
   "cell_type": "code",
   "execution_count": 1,
   "metadata": {},
   "outputs": [],
   "source": [
    "#import packages\n",
    "import tmdbsimple as tmdb\n",
    "import pandas as pd\n",
    "import numpy as np\n",
    "import seaborn as sns\n",
    "import matplotlib.pyplot as plt\n",
    "import urllib.request\n",
    "import requests\n",
    "import configparser\n",
    "import pickle\n",
    "import string\n",
    "import nltk\n",
    "from copy import deepcopy\n",
    "import random \n",
    "\n",
    "from scipy.cluster.hierarchy import dendrogram, linkage, cut_tree\n",
    "from scipy.spatial.distance import squareform\n",
    "\n",
    "from sklearn.model_selection import train_test_split\n",
    "from sklearn.pipeline import Pipeline\n",
    "from sklearn.feature_extraction.text import CountVectorizer\n",
    "from sklearn.feature_extraction.text import TfidfTransformer\n",
    "from nltk.stem import PorterStemmer\n",
    "\n",
    "#modeling\n",
    "from sklearn.linear_model import LogisticRegression, SGDClassifier\n",
    "from sklearn.ensemble import RandomForestClassifier\n",
    "from sklearn.svm import SVC\n",
    "from sklearn.neighbors import KNeighborsClassifier\n",
    "from sklearn.ensemble import RandomForestClassifier, AdaBoostClassifier, GradientBoostingClassifier\n",
    "from sklearn.model_selection import cross_validate, GridSearchCV\n",
    "from sklearn.naive_bayes import MultinomialNB\n",
    "\n",
    "from sklearn.metrics import accuracy_score, recall_score, precision_score, confusion_matrix, roc_curve, auc\n",
    "from sklearn.calibration import calibration_curve\n",
    "\n",
    "#pipeline\n",
    "from sklearn.base import BaseEstimator, TransformerMixin\n",
    "from sklearn.pipeline import Pipeline, FeatureUnion\n",
    "from sklearn.preprocessing import StandardScaler, FunctionTransformer, Imputer\n",
    "from sklearn.model_selection import train_test_split, cross_val_score\n",
    "from sklearn.decomposition import PCA\n",
    "from sklearn.metrics import accuracy_score, recall_score, precision_score, confusion_matrix, roc_curve, auc\n",
    "from sklearn.calibration import calibration_curve\n",
    "\n",
    "\n",
    "import time\n",
    "import collections\n",
    "from PIL import Image\n",
    "import sys\n",
    "\n",
    "from datetime import datetime, timedelta, date"
   ]
  },
  {
   "cell_type": "markdown",
   "metadata": {},
   "source": [
    "\n",
    "# Part 1 ‐ Exploratory data analysis\n",
    "\n",
    "The attached logins.json file contains (simulated) timestamps of user logins in a particular geographic location. Aggregate these login counts based on 15-minute time intervals, and visualize and describe the resulting time series of login counts in ways that best characterize the underlying patterns of the demand. Please report/illustrate important features of the demand, such as daily cycles. If there are data quality issues, please report them."
   ]
  },
  {
   "cell_type": "code",
   "execution_count": 2,
   "metadata": {},
   "outputs": [],
   "source": [
    "logins = pd.read_json('logins.json')"
   ]
  },
  {
   "cell_type": "code",
   "execution_count": 3,
   "metadata": {},
   "outputs": [
    {
     "data": {
      "text/plain": [
       "login_time   1970-04-13 18:57:38\n",
       "dtype: datetime64[ns]"
      ]
     },
     "execution_count": 3,
     "metadata": {},
     "output_type": "execute_result"
    }
   ],
   "source": [
    "logins.max()"
   ]
  },
  {
   "cell_type": "code",
   "execution_count": 4,
   "metadata": {},
   "outputs": [
    {
     "data": {
      "text/plain": [
       "login_time   1970-01-01 20:12:16\n",
       "dtype: datetime64[ns]"
      ]
     },
     "execution_count": 4,
     "metadata": {},
     "output_type": "execute_result"
    }
   ],
   "source": [
    "logins.min()"
   ]
  },
  {
   "cell_type": "code",
   "execution_count": 5,
   "metadata": {},
   "outputs": [
    {
     "data": {
      "text/html": [
       "<div>\n",
       "<style scoped>\n",
       "    .dataframe tbody tr th:only-of-type {\n",
       "        vertical-align: middle;\n",
       "    }\n",
       "\n",
       "    .dataframe tbody tr th {\n",
       "        vertical-align: top;\n",
       "    }\n",
       "\n",
       "    .dataframe thead th {\n",
       "        text-align: right;\n",
       "    }\n",
       "</style>\n",
       "<table border=\"1\" class=\"dataframe\">\n",
       "  <thead>\n",
       "    <tr style=\"text-align: right;\">\n",
       "      <th></th>\n",
       "      <th>login_time</th>\n",
       "    </tr>\n",
       "  </thead>\n",
       "  <tbody>\n",
       "    <tr>\n",
       "      <th>0</th>\n",
       "      <td>1970-01-01 20:13:18</td>\n",
       "    </tr>\n",
       "    <tr>\n",
       "      <th>1</th>\n",
       "      <td>1970-01-01 20:16:10</td>\n",
       "    </tr>\n",
       "    <tr>\n",
       "      <th>2</th>\n",
       "      <td>1970-01-01 20:16:37</td>\n",
       "    </tr>\n",
       "    <tr>\n",
       "      <th>3</th>\n",
       "      <td>1970-01-01 20:16:36</td>\n",
       "    </tr>\n",
       "    <tr>\n",
       "      <th>4</th>\n",
       "      <td>1970-01-01 20:26:21</td>\n",
       "    </tr>\n",
       "  </tbody>\n",
       "</table>\n",
       "</div>"
      ],
      "text/plain": [
       "           login_time\n",
       "0 1970-01-01 20:13:18\n",
       "1 1970-01-01 20:16:10\n",
       "2 1970-01-01 20:16:37\n",
       "3 1970-01-01 20:16:36\n",
       "4 1970-01-01 20:26:21"
      ]
     },
     "execution_count": 5,
     "metadata": {},
     "output_type": "execute_result"
    }
   ],
   "source": [
    "logins.head()"
   ]
  },
  {
   "cell_type": "code",
   "execution_count": 6,
   "metadata": {
    "scrolled": true
   },
   "outputs": [],
   "source": [
    "def assign_15m(tm):\n",
    "    bucket = tm - timedelta(minutes=tm.minute % 15,\n",
    "                             seconds=tm.second,\n",
    "                             microseconds=tm.microsecond)\n",
    "    return bucket.time()\n",
    "\n",
    "logins['date'] = logins['login_time'].apply(lambda x: x.date())\n",
    "logins['month'] = logins['login_time'].apply(lambda x: x.month)\n",
    "logins['day'] = logins['login_time'].apply(lambda x: x.day)\n",
    "logins['15m_bucket'] = logins['login_time'].apply(assign_15m)\n",
    "logins['hour'] = logins['login_time'].apply(lambda x: x.hour)\n",
    "logins['weekday'] = logins['login_time'].apply(lambda x: x.weekday())"
   ]
  },
  {
   "cell_type": "code",
   "execution_count": 7,
   "metadata": {},
   "outputs": [
    {
     "data": {
      "text/html": [
       "<div>\n",
       "<style scoped>\n",
       "    .dataframe tbody tr th:only-of-type {\n",
       "        vertical-align: middle;\n",
       "    }\n",
       "\n",
       "    .dataframe tbody tr th {\n",
       "        vertical-align: top;\n",
       "    }\n",
       "\n",
       "    .dataframe thead th {\n",
       "        text-align: right;\n",
       "    }\n",
       "</style>\n",
       "<table border=\"1\" class=\"dataframe\">\n",
       "  <thead>\n",
       "    <tr style=\"text-align: right;\">\n",
       "      <th></th>\n",
       "      <th>login_time</th>\n",
       "      <th>date</th>\n",
       "      <th>month</th>\n",
       "      <th>day</th>\n",
       "      <th>15m_bucket</th>\n",
       "      <th>hour</th>\n",
       "      <th>weekday</th>\n",
       "    </tr>\n",
       "  </thead>\n",
       "  <tbody>\n",
       "    <tr>\n",
       "      <th>0</th>\n",
       "      <td>1970-01-01 20:13:18</td>\n",
       "      <td>1970-01-01</td>\n",
       "      <td>1</td>\n",
       "      <td>1</td>\n",
       "      <td>20:00:00</td>\n",
       "      <td>20</td>\n",
       "      <td>3</td>\n",
       "    </tr>\n",
       "    <tr>\n",
       "      <th>1</th>\n",
       "      <td>1970-01-01 20:16:10</td>\n",
       "      <td>1970-01-01</td>\n",
       "      <td>1</td>\n",
       "      <td>1</td>\n",
       "      <td>20:15:00</td>\n",
       "      <td>20</td>\n",
       "      <td>3</td>\n",
       "    </tr>\n",
       "    <tr>\n",
       "      <th>2</th>\n",
       "      <td>1970-01-01 20:16:37</td>\n",
       "      <td>1970-01-01</td>\n",
       "      <td>1</td>\n",
       "      <td>1</td>\n",
       "      <td>20:15:00</td>\n",
       "      <td>20</td>\n",
       "      <td>3</td>\n",
       "    </tr>\n",
       "    <tr>\n",
       "      <th>3</th>\n",
       "      <td>1970-01-01 20:16:36</td>\n",
       "      <td>1970-01-01</td>\n",
       "      <td>1</td>\n",
       "      <td>1</td>\n",
       "      <td>20:15:00</td>\n",
       "      <td>20</td>\n",
       "      <td>3</td>\n",
       "    </tr>\n",
       "    <tr>\n",
       "      <th>4</th>\n",
       "      <td>1970-01-01 20:26:21</td>\n",
       "      <td>1970-01-01</td>\n",
       "      <td>1</td>\n",
       "      <td>1</td>\n",
       "      <td>20:15:00</td>\n",
       "      <td>20</td>\n",
       "      <td>3</td>\n",
       "    </tr>\n",
       "    <tr>\n",
       "      <th>5</th>\n",
       "      <td>1970-01-01 20:21:41</td>\n",
       "      <td>1970-01-01</td>\n",
       "      <td>1</td>\n",
       "      <td>1</td>\n",
       "      <td>20:15:00</td>\n",
       "      <td>20</td>\n",
       "      <td>3</td>\n",
       "    </tr>\n",
       "    <tr>\n",
       "      <th>6</th>\n",
       "      <td>1970-01-01 20:12:16</td>\n",
       "      <td>1970-01-01</td>\n",
       "      <td>1</td>\n",
       "      <td>1</td>\n",
       "      <td>20:00:00</td>\n",
       "      <td>20</td>\n",
       "      <td>3</td>\n",
       "    </tr>\n",
       "    <tr>\n",
       "      <th>7</th>\n",
       "      <td>1970-01-01 20:35:47</td>\n",
       "      <td>1970-01-01</td>\n",
       "      <td>1</td>\n",
       "      <td>1</td>\n",
       "      <td>20:30:00</td>\n",
       "      <td>20</td>\n",
       "      <td>3</td>\n",
       "    </tr>\n",
       "    <tr>\n",
       "      <th>8</th>\n",
       "      <td>1970-01-01 20:35:38</td>\n",
       "      <td>1970-01-01</td>\n",
       "      <td>1</td>\n",
       "      <td>1</td>\n",
       "      <td>20:30:00</td>\n",
       "      <td>20</td>\n",
       "      <td>3</td>\n",
       "    </tr>\n",
       "    <tr>\n",
       "      <th>9</th>\n",
       "      <td>1970-01-01 20:47:52</td>\n",
       "      <td>1970-01-01</td>\n",
       "      <td>1</td>\n",
       "      <td>1</td>\n",
       "      <td>20:45:00</td>\n",
       "      <td>20</td>\n",
       "      <td>3</td>\n",
       "    </tr>\n",
       "    <tr>\n",
       "      <th>10</th>\n",
       "      <td>1970-01-01 20:26:05</td>\n",
       "      <td>1970-01-01</td>\n",
       "      <td>1</td>\n",
       "      <td>1</td>\n",
       "      <td>20:15:00</td>\n",
       "      <td>20</td>\n",
       "      <td>3</td>\n",
       "    </tr>\n",
       "    <tr>\n",
       "      <th>11</th>\n",
       "      <td>1970-01-01 20:31:03</td>\n",
       "      <td>1970-01-01</td>\n",
       "      <td>1</td>\n",
       "      <td>1</td>\n",
       "      <td>20:30:00</td>\n",
       "      <td>20</td>\n",
       "      <td>3</td>\n",
       "    </tr>\n",
       "    <tr>\n",
       "      <th>12</th>\n",
       "      <td>1970-01-01 20:34:46</td>\n",
       "      <td>1970-01-01</td>\n",
       "      <td>1</td>\n",
       "      <td>1</td>\n",
       "      <td>20:30:00</td>\n",
       "      <td>20</td>\n",
       "      <td>3</td>\n",
       "    </tr>\n",
       "    <tr>\n",
       "      <th>13</th>\n",
       "      <td>1970-01-01 20:36:34</td>\n",
       "      <td>1970-01-01</td>\n",
       "      <td>1</td>\n",
       "      <td>1</td>\n",
       "      <td>20:30:00</td>\n",
       "      <td>20</td>\n",
       "      <td>3</td>\n",
       "    </tr>\n",
       "    <tr>\n",
       "      <th>14</th>\n",
       "      <td>1970-01-01 20:39:25</td>\n",
       "      <td>1970-01-01</td>\n",
       "      <td>1</td>\n",
       "      <td>1</td>\n",
       "      <td>20:30:00</td>\n",
       "      <td>20</td>\n",
       "      <td>3</td>\n",
       "    </tr>\n",
       "    <tr>\n",
       "      <th>15</th>\n",
       "      <td>1970-01-01 20:40:37</td>\n",
       "      <td>1970-01-01</td>\n",
       "      <td>1</td>\n",
       "      <td>1</td>\n",
       "      <td>20:30:00</td>\n",
       "      <td>20</td>\n",
       "      <td>3</td>\n",
       "    </tr>\n",
       "    <tr>\n",
       "      <th>16</th>\n",
       "      <td>1970-01-01 20:34:58</td>\n",
       "      <td>1970-01-01</td>\n",
       "      <td>1</td>\n",
       "      <td>1</td>\n",
       "      <td>20:30:00</td>\n",
       "      <td>20</td>\n",
       "      <td>3</td>\n",
       "    </tr>\n",
       "    <tr>\n",
       "      <th>17</th>\n",
       "      <td>1970-01-01 20:43:59</td>\n",
       "      <td>1970-01-01</td>\n",
       "      <td>1</td>\n",
       "      <td>1</td>\n",
       "      <td>20:30:00</td>\n",
       "      <td>20</td>\n",
       "      <td>3</td>\n",
       "    </tr>\n",
       "    <tr>\n",
       "      <th>18</th>\n",
       "      <td>1970-01-01 20:47:46</td>\n",
       "      <td>1970-01-01</td>\n",
       "      <td>1</td>\n",
       "      <td>1</td>\n",
       "      <td>20:45:00</td>\n",
       "      <td>20</td>\n",
       "      <td>3</td>\n",
       "    </tr>\n",
       "    <tr>\n",
       "      <th>19</th>\n",
       "      <td>1970-01-01 20:46:34</td>\n",
       "      <td>1970-01-01</td>\n",
       "      <td>1</td>\n",
       "      <td>1</td>\n",
       "      <td>20:45:00</td>\n",
       "      <td>20</td>\n",
       "      <td>3</td>\n",
       "    </tr>\n",
       "  </tbody>\n",
       "</table>\n",
       "</div>"
      ],
      "text/plain": [
       "            login_time        date  month  day 15m_bucket  hour  weekday\n",
       "0  1970-01-01 20:13:18  1970-01-01      1    1   20:00:00    20        3\n",
       "1  1970-01-01 20:16:10  1970-01-01      1    1   20:15:00    20        3\n",
       "2  1970-01-01 20:16:37  1970-01-01      1    1   20:15:00    20        3\n",
       "3  1970-01-01 20:16:36  1970-01-01      1    1   20:15:00    20        3\n",
       "4  1970-01-01 20:26:21  1970-01-01      1    1   20:15:00    20        3\n",
       "5  1970-01-01 20:21:41  1970-01-01      1    1   20:15:00    20        3\n",
       "6  1970-01-01 20:12:16  1970-01-01      1    1   20:00:00    20        3\n",
       "7  1970-01-01 20:35:47  1970-01-01      1    1   20:30:00    20        3\n",
       "8  1970-01-01 20:35:38  1970-01-01      1    1   20:30:00    20        3\n",
       "9  1970-01-01 20:47:52  1970-01-01      1    1   20:45:00    20        3\n",
       "10 1970-01-01 20:26:05  1970-01-01      1    1   20:15:00    20        3\n",
       "11 1970-01-01 20:31:03  1970-01-01      1    1   20:30:00    20        3\n",
       "12 1970-01-01 20:34:46  1970-01-01      1    1   20:30:00    20        3\n",
       "13 1970-01-01 20:36:34  1970-01-01      1    1   20:30:00    20        3\n",
       "14 1970-01-01 20:39:25  1970-01-01      1    1   20:30:00    20        3\n",
       "15 1970-01-01 20:40:37  1970-01-01      1    1   20:30:00    20        3\n",
       "16 1970-01-01 20:34:58  1970-01-01      1    1   20:30:00    20        3\n",
       "17 1970-01-01 20:43:59  1970-01-01      1    1   20:30:00    20        3\n",
       "18 1970-01-01 20:47:46  1970-01-01      1    1   20:45:00    20        3\n",
       "19 1970-01-01 20:46:34  1970-01-01      1    1   20:45:00    20        3"
      ]
     },
     "execution_count": 7,
     "metadata": {},
     "output_type": "execute_result"
    }
   ],
   "source": [
    "logins.head(20)"
   ]
  },
  {
   "cell_type": "code",
   "execution_count": 8,
   "metadata": {},
   "outputs": [
    {
     "data": {
      "text/plain": [
       "Text(0.5,1,'Rides per 15m increment')"
      ]
     },
     "execution_count": 8,
     "metadata": {},
     "output_type": "execute_result"
    },
    {
     "data": {
      "image/png": "[encoded data removed]",
      "text/plain": [
       "<Figure size 1440x432 with 2 Axes>"
      ]
     },
     "metadata": {},
     "output_type": "display_data"
    }
   ],
   "source": [
    "#rides per 15m increment\n",
    "trial = (logins.groupby(['weekday', '15m_bucket']).size()).to_frame().reset_index()\n",
    "trial = trial.rename(columns={0:'total'})\n",
    "trial = trial.pivot(\"weekday\", \"15m_bucket\", \"total\")\n",
    "\n",
    "# Draw a heatmap with the numeric values in each cell\n",
    "f, ax = plt.subplots(figsize=(20, 6))\n",
    "sns.heatmap(trial, annot=False, linewidths=.5, fmt=\".0f\", ax=ax)\n",
    "plt.title('Rides per 15m increment')"
   ]
  },
  {
   "cell_type": "code",
   "execution_count": 9,
   "metadata": {},
   "outputs": [
    {
     "data": {
      "text/plain": [
       "Text(0.5,1,'Rides per day')"
      ]
     },
     "execution_count": 9,
     "metadata": {},
     "output_type": "execute_result"
    },
    {
     "data": {
      "image/png": "[encoded data removed]",
      "text/plain": [
       "<Figure size 1440x432 with 1 Axes>"
      ]
     },
     "metadata": {},
     "output_type": "display_data"
    }
   ],
   "source": [
    "#rides per day\n",
    "trial = (logins.groupby(['date']).size()).to_frame().reset_index()\n",
    "trial = trial.rename(columns={0:'total'})\n",
    "\n",
    "f, ax = plt.subplots(figsize=(20, 6))\n",
    "sns.lineplot(x = 'date', y = 'total', data = trial, ax = ax)\n",
    "plt.title('Rides per day')"
   ]
  },
  {
   "cell_type": "code",
   "execution_count": 10,
   "metadata": {},
   "outputs": [
    {
     "data": {
      "text/plain": [
       "Text(0.5,1,'Rides per 15m increment 3/15 - 3/21')"
      ]
     },
     "execution_count": 10,
     "metadata": {},
     "output_type": "execute_result"
    },
    {
     "data": {
      "image/png": "[encoded data removed]",
      "text/plain": [
       "<Figure size 1440x432 with 2 Axes>"
      ]
     },
     "metadata": {},
     "output_type": "display_data"
    }
   ],
   "source": [
    "subsample = logins[(logins['date'] > date(1970, 3, 14)) & (logins['date'] < date(1970, 3, 22))]\n",
    "\n",
    "#rides per day\n",
    "trial = (subsample.groupby(['weekday', '15m_bucket']).size()).to_frame().reset_index()\n",
    "trial = trial.rename(columns={0:'total'})\n",
    "trial = trial.pivot(\"weekday\", \"15m_bucket\", \"total\")\n",
    "\n",
    "# Draw a heatmap with the numeric values in each cell\n",
    "f, ax = plt.subplots(figsize=(20, 6))\n",
    "sns.heatmap(trial, annot=False, linewidths=.5, fmt=\".0f\", ax=ax)\n",
    "plt.title('Rides per 15m increment 3/15 - 3/21')"
   ]
  },
  {
   "cell_type": "markdown",
   "metadata": {},
   "source": [
    "As expected there are different demand patterns between weekday and weekend time periods.  For a weekday, the highest demand is during the 11:00 - 12:30 period. For a weekend, the highest demand is during the evening and early morning hours.  This suggests that users generally use the service for entertainment purposes - going to lunch during the weekday and going out during the weekend.  \n",
    "\n",
    "There was one anomalous period during March 14-22 where user activity did not follow the typical weekly patterns.  There was constantly high user activity during both weekdays and weekends.  During this period, the weekday early mornings and late evenings were uncharacteristally very active in addition to the miday period.  This could indicate a data quality issue or an unusual phenomenon (ie: holidays or festivals)."
   ]
  },
  {
   "cell_type": "markdown",
   "metadata": {},
   "source": [
    "\n",
    "# Part 2 ‐ Experiment and metrics design\n",
    "The neighboring cities of Gotham and Metropolis have complementary circadian rhythms: on weekdays, Ultimate Gotham is most active at night, and Ultimate Metropolis is most active during the day. On weekends, there is reasonable activity in both cities.\n",
    "However, a toll bridge, with a two­way toll, between the two cities causes driver partners to tend to be exclusive to each city. The Ultimate managers of city operations for the two cities have proposed an experiment to encourage driver partners to be available in both cities, by reimbursing all toll costs.\n",
    "1. What would you choose as the key measure of success of this experiment in encouraging driver partners to serve both cities, and why would you choose this metric?\n",
    "2. Describe a practical experiment you would design to compare the effectiveness of the proposed change in relation to the key measure of success. Please provide details on:\n",
    "<br>\n",
    "a. how you will implement the experiment\n",
    "<br>\n",
    "b. what statistical test(s) you will conduct to verify the significance of the\n",
    "observation\n",
    "<br>\n",
    "c. how you would interpret the results and provide recommendations to the city\n",
    "operations team along with any caveats.\n"
   ]
  },
  {
   "cell_type": "markdown",
   "metadata": {},
   "source": [
    "<b> Metric </b>\n",
    "<br>\n",
    "The key metric of success is the proportion of drivers sessions with dual-city activity during the weekend.  Dual city activity is defined as having a drop off or pickup in both cities. This metric is specific to the weekend because there is demand in both cities during the same time so a driver would have the choice to cross the bridge to help riders in either city.  A driver session could be defined as continuous period of driver activity of resonable length where a driver would reasonably be expected to field multiple requests from both cities (ie: a period of 2 or more hours).\n",
    "\n",
    "\n",
    "This metric captures the intended outcome - driver availibilty in both cities, and is specific to the driver sessions where we are interested seeing dual-city activity.\n"
   ]
  },
  {
   "cell_type": "markdown",
   "metadata": {},
   "source": [
    "<b> Experiemnt </b>\n",
    "\n",
    "<i> Implementation </i>\n",
    "<br>\n",
    "I would identify a set of drivers working on a given weekend.  I would assign a subset of these drivers to an intervention group who would be reimbursed for all toll costs.  I would then calculate the percent of driver sessions with dual-city activity among both groups.\n",
    "\n",
    "<i> Statistics </i>\n",
    "<br>\n",
    "To compare the percent of driver sessions with dual-city activity among both groups, I would use a two-proportion z test.  The null hypothesis of this test is that the proportions of driver sessions with dual-city activity are the same in both groups.  The alternative hypothesis is that the proportion in the intervention group is larger than the proportion in the control group.\n",
    "\n",
    "<i> Interpretation </i>\n",
    "<br>\n",
    "If the intervention group has a higher proportion of dual-city driver sessions, I would recommend that the city operations could reimburse toll costs to increase availability in both cities.  However, this does not indicate that toll reimbursement is cost-effective or the best way increase dual-city activity.  Ostensibly, increasing dual-city activity would make supply of drivers more agile to meet demand for rides.  However, the cost of tolls reimbursement may be so high as to outweigh any benefit from balancing supply and demand.  A secondary metric to monitor is the number of rides that are fulfilled over the weekend.  If more riders are demanding and completing rides during the weekend due to toll reimbursement, this would provide stronger evidence in favor of the intervention.  "
   ]
  },
  {
   "cell_type": "markdown",
   "metadata": {},
   "source": [
    "# Part 3 ‐ Predictive modeling\n",
    "\n",
    "Ultimate is interested in predicting rider retention. To help explore this question, we have provided a sample dataset of a cohort of users who signed up for an Ultimate account in\n",
    "January 2014. The data was pulled several months later; we consider a user retained if they were “active” (i.e. took a trip) in the preceding 30 days.\n",
    "We would like you to use this data set to help understand what factors are the best predictors for retention, and offer suggestions to operationalize those insights to help Ultimate.\n",
    "The data is in the attached file ultimate_data_challenge.json."
   ]
  },
  {
   "cell_type": "code",
   "execution_count": 11,
   "metadata": {},
   "outputs": [
    {
     "data": {
      "text/html": [
       "<div>\n",
       "<style scoped>\n",
       "    .dataframe tbody tr th:only-of-type {\n",
       "        vertical-align: middle;\n",
       "    }\n",
       "\n",
       "    .dataframe tbody tr th {\n",
       "        vertical-align: top;\n",
       "    }\n",
       "\n",
       "    .dataframe thead th {\n",
       "        text-align: right;\n",
       "    }\n",
       "</style>\n",
       "<table border=\"1\" class=\"dataframe\">\n",
       "  <thead>\n",
       "    <tr style=\"text-align: right;\">\n",
       "      <th></th>\n",
       "      <th>avg_dist</th>\n",
       "      <th>avg_rating_by_driver</th>\n",
       "      <th>avg_rating_of_driver</th>\n",
       "      <th>avg_surge</th>\n",
       "      <th>city</th>\n",
       "      <th>last_trip_date</th>\n",
       "      <th>phone</th>\n",
       "      <th>signup_date</th>\n",
       "      <th>surge_pct</th>\n",
       "      <th>trips_in_first_30_days</th>\n",
       "      <th>ultimate_black_user</th>\n",
       "      <th>weekday_pct</th>\n",
       "    </tr>\n",
       "  </thead>\n",
       "  <tbody>\n",
       "    <tr>\n",
       "      <th>0</th>\n",
       "      <td>3.67</td>\n",
       "      <td>5.0</td>\n",
       "      <td>4.7</td>\n",
       "      <td>1.10</td>\n",
       "      <td>King's Landing</td>\n",
       "      <td>2014-06-17</td>\n",
       "      <td>iPhone</td>\n",
       "      <td>2014-01-25</td>\n",
       "      <td>15.4</td>\n",
       "      <td>4</td>\n",
       "      <td>True</td>\n",
       "      <td>46.2</td>\n",
       "    </tr>\n",
       "    <tr>\n",
       "      <th>1</th>\n",
       "      <td>8.26</td>\n",
       "      <td>5.0</td>\n",
       "      <td>5.0</td>\n",
       "      <td>1.00</td>\n",
       "      <td>Astapor</td>\n",
       "      <td>2014-05-05</td>\n",
       "      <td>Android</td>\n",
       "      <td>2014-01-29</td>\n",
       "      <td>0.0</td>\n",
       "      <td>0</td>\n",
       "      <td>False</td>\n",
       "      <td>50.0</td>\n",
       "    </tr>\n",
       "    <tr>\n",
       "      <th>2</th>\n",
       "      <td>0.77</td>\n",
       "      <td>5.0</td>\n",
       "      <td>4.3</td>\n",
       "      <td>1.00</td>\n",
       "      <td>Astapor</td>\n",
       "      <td>2014-01-07</td>\n",
       "      <td>iPhone</td>\n",
       "      <td>2014-01-06</td>\n",
       "      <td>0.0</td>\n",
       "      <td>3</td>\n",
       "      <td>False</td>\n",
       "      <td>100.0</td>\n",
       "    </tr>\n",
       "    <tr>\n",
       "      <th>3</th>\n",
       "      <td>2.36</td>\n",
       "      <td>4.9</td>\n",
       "      <td>4.6</td>\n",
       "      <td>1.14</td>\n",
       "      <td>King's Landing</td>\n",
       "      <td>2014-06-29</td>\n",
       "      <td>iPhone</td>\n",
       "      <td>2014-01-10</td>\n",
       "      <td>20.0</td>\n",
       "      <td>9</td>\n",
       "      <td>True</td>\n",
       "      <td>80.0</td>\n",
       "    </tr>\n",
       "    <tr>\n",
       "      <th>4</th>\n",
       "      <td>3.13</td>\n",
       "      <td>4.9</td>\n",
       "      <td>4.4</td>\n",
       "      <td>1.19</td>\n",
       "      <td>Winterfell</td>\n",
       "      <td>2014-03-15</td>\n",
       "      <td>Android</td>\n",
       "      <td>2014-01-27</td>\n",
       "      <td>11.8</td>\n",
       "      <td>14</td>\n",
       "      <td>False</td>\n",
       "      <td>82.4</td>\n",
       "    </tr>\n",
       "  </tbody>\n",
       "</table>\n",
       "</div>"
      ],
      "text/plain": [
       "   avg_dist  avg_rating_by_driver  avg_rating_of_driver  avg_surge  \\\n",
       "0      3.67                   5.0                   4.7       1.10   \n",
       "1      8.26                   5.0                   5.0       1.00   \n",
       "2      0.77                   5.0                   4.3       1.00   \n",
       "3      2.36                   4.9                   4.6       1.14   \n",
       "4      3.13                   4.9                   4.4       1.19   \n",
       "\n",
       "             city last_trip_date    phone signup_date  surge_pct  \\\n",
       "0  King's Landing     2014-06-17   iPhone  2014-01-25       15.4   \n",
       "1         Astapor     2014-05-05  Android  2014-01-29        0.0   \n",
       "2         Astapor     2014-01-07   iPhone  2014-01-06        0.0   \n",
       "3  King's Landing     2014-06-29   iPhone  2014-01-10       20.0   \n",
       "4      Winterfell     2014-03-15  Android  2014-01-27       11.8   \n",
       "\n",
       "   trips_in_first_30_days  ultimate_black_user  weekday_pct  \n",
       "0                       4                 True         46.2  \n",
       "1                       0                False         50.0  \n",
       "2                       3                False        100.0  \n",
       "3                       9                 True         80.0  \n",
       "4                      14                False         82.4  "
      ]
     },
     "execution_count": 11,
     "metadata": {},
     "output_type": "execute_result"
    }
   ],
   "source": [
    "import json\n",
    "\n",
    "with open('ultimate_data_challenge.json') as f:\n",
    "    data = json.load(f)\n",
    "\n",
    "retention = pd.DataFrame(data)\n",
    "retention.head()"
   ]
  },
  {
   "cell_type": "code",
   "execution_count": 12,
   "metadata": {},
   "outputs": [
    {
     "data": {
      "text/plain": [
       "(50000, 12)"
      ]
     },
     "execution_count": 12,
     "metadata": {},
     "output_type": "execute_result"
    }
   ],
   "source": [
    "retention.shape"
   ]
  },
  {
   "cell_type": "code",
   "execution_count": 13,
   "metadata": {},
   "outputs": [],
   "source": [
    "time_format = '%Y-%m-%d'\n",
    "cols= ['last_trip_date', 'signup_date']\n",
    "retention[cols]= (retention[cols].apply(pd.to_datetime, format=time_format))\n",
    "retention['days_since_first'] = (retention.last_trip_date - retention.signup_date).apply(lambda x: x.days)\n",
    "retention['retained'] = retention['days_since_first'].apply(lambda x: 1 if x > 150 else 0)\n",
    "retention['ultimate_black_user'] = retention['ultimate_black_user']*1\n",
    "\n",
    "#one hot encode cities\n",
    "city_groups = pd.get_dummies(retention['city'], prefix='city', drop_first= True)\n",
    "retention = pd.concat([retention, city_groups], axis =1)\n",
    "\n",
    "#one hot encode cities\n",
    "phone_groups = pd.get_dummies(retention['phone'], prefix='phone', drop_first= True)\n",
    "retention = pd.concat([retention, phone_groups], axis =1)"
   ]
  },
  {
   "cell_type": "code",
   "execution_count": 14,
   "metadata": {},
   "outputs": [
    {
     "data": {
      "text/plain": [
       "avg_dist                         float64\n",
       "avg_rating_by_driver             float64\n",
       "avg_rating_of_driver             float64\n",
       "avg_surge                        float64\n",
       "city                              object\n",
       "last_trip_date            datetime64[ns]\n",
       "phone                             object\n",
       "signup_date               datetime64[ns]\n",
       "surge_pct                        float64\n",
       "trips_in_first_30_days             int64\n",
       "ultimate_black_user                int64\n",
       "weekday_pct                      float64\n",
       "days_since_first                   int64\n",
       "retained                           int64\n",
       "city_King's Landing                uint8\n",
       "city_Winterfell                    uint8\n",
       "phone_iPhone                       uint8\n",
       "dtype: object"
      ]
     },
     "execution_count": 14,
     "metadata": {},
     "output_type": "execute_result"
    }
   ],
   "source": [
    "retention.dtypes"
   ]
  },
  {
   "cell_type": "code",
   "execution_count": 15,
   "metadata": {},
   "outputs": [
    {
     "data": {
      "text/html": [
       "<div>\n",
       "<style scoped>\n",
       "    .dataframe tbody tr th:only-of-type {\n",
       "        vertical-align: middle;\n",
       "    }\n",
       "\n",
       "    .dataframe tbody tr th {\n",
       "        vertical-align: top;\n",
       "    }\n",
       "\n",
       "    .dataframe thead th {\n",
       "        text-align: right;\n",
       "    }\n",
       "</style>\n",
       "<table border=\"1\" class=\"dataframe\">\n",
       "  <thead>\n",
       "    <tr style=\"text-align: right;\">\n",
       "      <th></th>\n",
       "      <th>avg_dist</th>\n",
       "      <th>avg_rating_by_driver</th>\n",
       "      <th>avg_rating_of_driver</th>\n",
       "      <th>avg_surge</th>\n",
       "      <th>city</th>\n",
       "      <th>last_trip_date</th>\n",
       "      <th>phone</th>\n",
       "      <th>signup_date</th>\n",
       "      <th>surge_pct</th>\n",
       "      <th>trips_in_first_30_days</th>\n",
       "      <th>ultimate_black_user</th>\n",
       "      <th>weekday_pct</th>\n",
       "      <th>days_since_first</th>\n",
       "      <th>retained</th>\n",
       "      <th>city_King's Landing</th>\n",
       "      <th>city_Winterfell</th>\n",
       "      <th>phone_iPhone</th>\n",
       "    </tr>\n",
       "  </thead>\n",
       "  <tbody>\n",
       "    <tr>\n",
       "      <th>0</th>\n",
       "      <td>3.67</td>\n",
       "      <td>5.0</td>\n",
       "      <td>4.7</td>\n",
       "      <td>1.10</td>\n",
       "      <td>King's Landing</td>\n",
       "      <td>2014-06-17</td>\n",
       "      <td>iPhone</td>\n",
       "      <td>2014-01-25</td>\n",
       "      <td>15.4</td>\n",
       "      <td>4</td>\n",
       "      <td>1</td>\n",
       "      <td>46.2</td>\n",
       "      <td>143</td>\n",
       "      <td>0</td>\n",
       "      <td>1</td>\n",
       "      <td>0</td>\n",
       "      <td>1</td>\n",
       "    </tr>\n",
       "    <tr>\n",
       "      <th>1</th>\n",
       "      <td>8.26</td>\n",
       "      <td>5.0</td>\n",
       "      <td>5.0</td>\n",
       "      <td>1.00</td>\n",
       "      <td>Astapor</td>\n",
       "      <td>2014-05-05</td>\n",
       "      <td>Android</td>\n",
       "      <td>2014-01-29</td>\n",
       "      <td>0.0</td>\n",
       "      <td>0</td>\n",
       "      <td>0</td>\n",
       "      <td>50.0</td>\n",
       "      <td>96</td>\n",
       "      <td>0</td>\n",
       "      <td>0</td>\n",
       "      <td>0</td>\n",
       "      <td>0</td>\n",
       "    </tr>\n",
       "    <tr>\n",
       "      <th>2</th>\n",
       "      <td>0.77</td>\n",
       "      <td>5.0</td>\n",
       "      <td>4.3</td>\n",
       "      <td>1.00</td>\n",
       "      <td>Astapor</td>\n",
       "      <td>2014-01-07</td>\n",
       "      <td>iPhone</td>\n",
       "      <td>2014-01-06</td>\n",
       "      <td>0.0</td>\n",
       "      <td>3</td>\n",
       "      <td>0</td>\n",
       "      <td>100.0</td>\n",
       "      <td>1</td>\n",
       "      <td>0</td>\n",
       "      <td>0</td>\n",
       "      <td>0</td>\n",
       "      <td>1</td>\n",
       "    </tr>\n",
       "    <tr>\n",
       "      <th>3</th>\n",
       "      <td>2.36</td>\n",
       "      <td>4.9</td>\n",
       "      <td>4.6</td>\n",
       "      <td>1.14</td>\n",
       "      <td>King's Landing</td>\n",
       "      <td>2014-06-29</td>\n",
       "      <td>iPhone</td>\n",
       "      <td>2014-01-10</td>\n",
       "      <td>20.0</td>\n",
       "      <td>9</td>\n",
       "      <td>1</td>\n",
       "      <td>80.0</td>\n",
       "      <td>170</td>\n",
       "      <td>1</td>\n",
       "      <td>1</td>\n",
       "      <td>0</td>\n",
       "      <td>1</td>\n",
       "    </tr>\n",
       "    <tr>\n",
       "      <th>4</th>\n",
       "      <td>3.13</td>\n",
       "      <td>4.9</td>\n",
       "      <td>4.4</td>\n",
       "      <td>1.19</td>\n",
       "      <td>Winterfell</td>\n",
       "      <td>2014-03-15</td>\n",
       "      <td>Android</td>\n",
       "      <td>2014-01-27</td>\n",
       "      <td>11.8</td>\n",
       "      <td>14</td>\n",
       "      <td>0</td>\n",
       "      <td>82.4</td>\n",
       "      <td>47</td>\n",
       "      <td>0</td>\n",
       "      <td>0</td>\n",
       "      <td>1</td>\n",
       "      <td>0</td>\n",
       "    </tr>\n",
       "  </tbody>\n",
       "</table>\n",
       "</div>"
      ],
      "text/plain": [
       "   avg_dist  avg_rating_by_driver  avg_rating_of_driver  avg_surge  \\\n",
       "0      3.67                   5.0                   4.7       1.10   \n",
       "1      8.26                   5.0                   5.0       1.00   \n",
       "2      0.77                   5.0                   4.3       1.00   \n",
       "3      2.36                   4.9                   4.6       1.14   \n",
       "4      3.13                   4.9                   4.4       1.19   \n",
       "\n",
       "             city last_trip_date    phone signup_date  surge_pct  \\\n",
       "0  King's Landing     2014-06-17   iPhone  2014-01-25       15.4   \n",
       "1         Astapor     2014-05-05  Android  2014-01-29        0.0   \n",
       "2         Astapor     2014-01-07   iPhone  2014-01-06        0.0   \n",
       "3  King's Landing     2014-06-29   iPhone  2014-01-10       20.0   \n",
       "4      Winterfell     2014-03-15  Android  2014-01-27       11.8   \n",
       "\n",
       "   trips_in_first_30_days  ultimate_black_user  weekday_pct  days_since_first  \\\n",
       "0                       4                    1         46.2               143   \n",
       "1                       0                    0         50.0                96   \n",
       "2                       3                    0        100.0                 1   \n",
       "3                       9                    1         80.0               170   \n",
       "4                      14                    0         82.4                47   \n",
       "\n",
       "   retained  city_King's Landing  city_Winterfell  phone_iPhone  \n",
       "0         0                    1                0             1  \n",
       "1         0                    0                0             0  \n",
       "2         0                    0                0             1  \n",
       "3         1                    1                0             1  \n",
       "4         0                    0                1             0  "
      ]
     },
     "execution_count": 15,
     "metadata": {},
     "output_type": "execute_result"
    }
   ],
   "source": [
    "retention.head()"
   ]
  },
  {
   "cell_type": "markdown",
   "metadata": {},
   "source": [
    "## EDA"
   ]
  },
  {
   "cell_type": "markdown",
   "metadata": {},
   "source": [
    "## What fraction of the observed users were retained?\n",
    "\n",
    "6 month retention was defined as having a ride at least 150 days after initial sign up.  Per this definition, about 12K (24%) of 50K riders were retained.  \n",
    "<br>\n",
    "Univariate analysis shows that having a sign up city of Winterfell, using an iphone, and being an ultimate black user are strongly associated with 6 month retention. "
   ]
  },
  {
   "cell_type": "code",
   "execution_count": 16,
   "metadata": {},
   "outputs": [
    {
     "data": {
      "text/plain": [
       "<matplotlib.axes._subplots.AxesSubplot at 0x1148dc2e8>"
      ]
     },
     "execution_count": 16,
     "metadata": {},
     "output_type": "execute_result"
    },
    {
     "data": {
      "image/png": "[encoded data removed]",
      "text/plain": [
       "<Figure size 432x288 with 1 Axes>"
      ]
     },
     "metadata": {},
     "output_type": "display_data"
    }
   ],
   "source": [
    "sns.distplot(retention['days_since_first'])"
   ]
  },
  {
   "cell_type": "code",
   "execution_count": 17,
   "metadata": {},
   "outputs": [
    {
     "data": {
      "image/png": "[encoded data removed]",
      "text/plain": [
       "<Figure size 432x288 with 1 Axes>"
      ]
     },
     "metadata": {},
     "output_type": "display_data"
    }
   ],
   "source": [
    "#survival curve\n",
    "last = retention['days_since_first']\n",
    "\n",
    "n_users = len(retention)\n",
    "survivors = [1-(last == 0).sum()/len(last) ]\n",
    "running_dropouts = (last == 0).sum()\n",
    "for i in range(1,183):\n",
    "    running_dropouts += (last == i).sum()\n",
    "    surviving = (n_users-running_dropouts)/n_users\n",
    "    survivors.append(surviving)\n",
    "\n",
    "ax = sns.lineplot(x = range(0,183) , y = survivors, markers = '.')\n",
    "ax.set_ylim([0, 1])\n",
    "plt.title(\"Longevity of New Users\")\n",
    "plt.ylabel(\"Survival Rate\")\n",
    "plt.xlabel(\"Days Post Initiation\")\n",
    "plt.show()"
   ]
  },
  {
   "cell_type": "code",
   "execution_count": 18,
   "metadata": {},
   "outputs": [
    {
     "data": {
      "text/plain": [
       "<matplotlib.axes._subplots.AxesSubplot at 0x1a21b2a5c0>"
      ]
     },
     "execution_count": 18,
     "metadata": {},
     "output_type": "execute_result"
    },
    {
     "data": {
      "image/png": "[encoded data removed]",
      "text/plain": [
       "<Figure size 432x288 with 1 Axes>"
      ]
     },
     "metadata": {},
     "output_type": "display_data"
    }
   ],
   "source": [
    "sns.countplot(x = 'retained', data = retention)"
   ]
  },
  {
   "cell_type": "code",
   "execution_count": 19,
   "metadata": {},
   "outputs": [
    {
     "data": {
      "image/png": "[encoded data removed]",
      "text/plain": [
       "<Figure size 1202.4x360 with 3 Axes>"
      ]
     },
     "metadata": {},
     "output_type": "display_data"
    }
   ],
   "source": [
    "fig, (ax1, ax2, ax3) = plt.subplots(nrows = 1, ncols = 3,figsize=(16.7, 5))\n",
    "\n",
    "sns.catplot(ax = ax1, x=\"city\", y=\"retained\", data = retention, \n",
    "                   height=6, kind=\"bar\", palette=\"muted\")\n",
    "sns.catplot(ax = ax2, x=\"phone\", y=\"retained\", data = retention, \n",
    "                   height=6, kind=\"bar\", palette=\"muted\")\n",
    "sns.catplot(ax = ax3, x=\"ultimate_black_user\", y=\"retained\", data = retention, \n",
    "                   height=6, kind=\"bar\", palette=\"muted\")\n",
    "\n",
    "plt.close(2)\n",
    "plt.close(3)\n",
    "plt.close(4)"
   ]
  },
  {
   "cell_type": "code",
   "execution_count": 20,
   "metadata": {},
   "outputs": [
    {
     "data": {
      "text/plain": [
       "<matplotlib.axes._subplots.AxesSubplot at 0x1a26131ac8>"
      ]
     },
     "execution_count": 20,
     "metadata": {},
     "output_type": "execute_result"
    },
    {
     "data": {
      "image/png": "[encoded data removed]",
      "text/plain": [
       "<Figure size 842.4x842.4 with 8 Axes>"
      ]
     },
     "metadata": {},
     "output_type": "display_data"
    }
   ],
   "source": [
    "fig, axs = plt.subplots(nrows = 4, ncols = 2,figsize=(11.7, 11.7))\n",
    "\n",
    "sns.violinplot(x=\"retained\", y=\"avg_dist\", data=retention, ax=axs[0,0])\n",
    "sns.violinplot(x=\"retained\", y=\"avg_rating_by_driver\", data=retention, ax=axs[0,1])\n",
    "sns.violinplot(x=\"retained\", y=\"avg_rating_of_driver\", data=retention, ax=axs[1,0])\n",
    "sns.violinplot(x=\"retained\", y=\"avg_surge\", data=retention, ax=axs[1,1])\n",
    "sns.violinplot(x=\"retained\", y=\"trips_in_first_30_days\", data=retention, ax=axs[2,0])\n",
    "sns.violinplot(x=\"retained\", y=\"surge_pct\", data=retention, ax=axs[2,1])\n",
    "sns.violinplot(x=\"retained\", y=\"weekday_pct\", data=retention, ax=axs[3,0])\n"
   ]
  },
  {
   "cell_type": "markdown",
   "metadata": {},
   "source": [
    "## Build a Predictive Model\n",
    "\n",
    "Discuss why you chose your approach, what alternatives you considered, and any concerns you have. How valid is your model? Include any key indicators of model performance.\n",
    "\n",
    "I chose to use a logistic regression model.  This model has various advantages:\n",
    "1. It is easily interpreted.\n",
    "2. A quick grid search using the default parameters of alternative models (SVC, Random Forest, K-neighbors, and Adaboost) identified logistic regression as the best model\n",
    "\n",
    "Hyperparameter tuning of a logistic regression generates a model with moderate performance:\n",
    "<br>-AUCROC: 73%, \n",
    "<br>-Accuracy: 68.207%\n",
    "<br>-Recall: 67.069%\n",
    "<br>-Precision: 40.619%\n",
    "\n",
    "The model identified the same important factors we identified in univariate analysis as well as additional ones (trips_in_first_30_days, avg_distance, avg_rating_by_driver, avg_rating_of_driver), which indicates our model has some validity.\n",
    "\n",
    "The low precision of the model is slightly concerning as it misclassifies many users as likely being retained when they are actually will not be retained.  However, depending on what action will be taken, the implications of low precision may be small.  \n"
   ]
  },
  {
   "cell_type": "code",
   "execution_count": 21,
   "metadata": {},
   "outputs": [],
   "source": [
    "#Helper Functions\n",
    "\n",
    "#Construct Pipeline\n",
    "class ColumnSelector(BaseEstimator, TransformerMixin):\n",
    "    \"\"\"\n",
    "    Transformer to select columns from the data frame to perform additional transformations on\n",
    "    \"\"\"\n",
    "    def __init__(self, key):\n",
    "        self.key = key\n",
    "\n",
    "    def fit(self, X, y=None):\n",
    "        return self\n",
    "\n",
    "    def transform(self, X):\n",
    "        return X[self.key]\n",
    "    \n",
    "class ArrayTransformer(BaseEstimator, TransformerMixin):\n",
    "    \"\"\"\n",
    "    Transformer to select columns from the data frame to change to array\n",
    "    \"\"\"\n",
    "    def __init__(self, key):\n",
    "        self.key = key\n",
    "\n",
    "    def fit(self, X, y=None):\n",
    "        return self\n",
    "\n",
    "    def transform(self, X):\n",
    "        return np.array(X[self.key])\n",
    "\n",
    "\n",
    "\n",
    "def make_pipline(cont_cols, cat_cols):\n",
    "    cont_scale =  Pipeline([\n",
    "                ('selector', ColumnSelector(key=cont_cols)),\n",
    "                ('impute', Imputer(missing_values= np.nan, strategy=\"mean\",axis=0)),\n",
    "                ('standardize', StandardScaler())\n",
    "                ])\n",
    "    oth_cols = Pipeline([\n",
    "                ('others', ArrayTransformer(cat_cols))\n",
    "                ])\n",
    "    pipeline = Pipeline([\n",
    "           ('Union', FeatureUnion([\n",
    "               ('continous', cont_scale),\n",
    "               ('others', oth_cols)\n",
    "            ])),\n",
    "           ('clf', SGDClassifier(loss = 'log', \n",
    "                                 penalty = 'elasticnet', \n",
    "                                 max_iter = 120, \n",
    "                                 class_weight = 'balanced'\n",
    "                                 ))\n",
    "           ])\n",
    "    return pipeline\n",
    "\n",
    "\n",
    "def grid_search_train(X_train, y_train, pipeline, param_grid, metric):\n",
    "    cv_grid = GridSearchCV(pipeline, param_grid = param_grid, scoring = metric, cv = 10, verbose = 1)\n",
    "    model = cv_grid.fit(X_train, y_train)\n",
    "    \n",
    "    print('Parameters:', model.best_params_)\n",
    "    print('Best %s Score:' %metric, model.best_score_)\n",
    "    \n",
    "    return model\n",
    "\n",
    "# Compute ROC curve and ROC area\n",
    "def roc_stats(X_test, y_test, model):\n",
    "    \n",
    "    #generate data\n",
    "    fpr = dict()\n",
    "    tpr = dict()\n",
    "    roc_auc = dict()\n",
    "    \n",
    "    y_score = model.predict_proba(X_test)[:,1]\n",
    "    fpr, tpr, thresholds = roc_curve(y_test, y_score)\n",
    "    roc_auc = auc(fpr, tpr)\n",
    "    y_predict = model.predict(X_test)\n",
    "    \n",
    "    accuracy = accuracy_score(y_test,y_predict)\n",
    "    recall = recall_score(y_test,y_predict)\n",
    "    precision = precision_score(y_test,y_predict)\n",
    "    \n",
    "    # Plot ROC curve\n",
    "    plt.figure()\n",
    "    plt.plot(fpr, tpr, color='darkorange', label='ROC curve (area = %0.4f)' % roc_auc)\n",
    "    plt.plot([0, 1], [0, 1], color='navy', linestyle='--')\n",
    "    plt.xlim([0.0, 1.0])\n",
    "    plt.ylim([0.0, 1.05])\n",
    "    plt.xlabel('False Positive Rate')\n",
    "    plt.ylabel('True Positive Rate')\n",
    "    plt.title('Receiver operating characteristic')\n",
    "    plt.legend(loc=\"lower right\")\n",
    "    plt.show()\n",
    "    \n",
    "    #print stats\n",
    "    print('Confusion Matrix: \\n', confusion_matrix(y_test, y_predict))\n",
    "    print('Accuracy: %.3f%%' % (accuracy*100))\n",
    "    print('Recall: %.3f%%' % (recall*100))\n",
    "    print('Precision: %.3f%%' % (precision*100))\n",
    "    \n",
    "#Get feature importances by getting accuracy per each feature\n",
    "def get_coeff(model, cols):\n",
    "    coefficients = model.best_estimator_.named_steps['clf'].coef_\n",
    "    coefficients = np.squeeze(coefficients)\n",
    "    coefficients = pd.DataFrame(\n",
    "        {'features': cols,\n",
    "         'coefficients': coefficients\n",
    "        })\n",
    "    \n",
    "    coefficients.set_index('features', inplace = True)\n",
    "    coefficients['abs'] = abs(coefficients['coefficients'])\n",
    "    coefficients.sort_values(by= ['abs'], ascending = False, inplace = True)\n",
    "    \n",
    "    return coefficients\n"
   ]
  },
  {
   "cell_type": "code",
   "execution_count": 23,
   "metadata": {},
   "outputs": [],
   "source": [
    "#specify columns\n",
    "drop_cols = ['days_since_first','signup_date', 'last_trip_date', 'retained', 'city', 'phone']\n",
    "\n",
    "\n",
    "X_train, X_test, y_train, y_test = (train_test_split(retention.drop(columns = drop_cols), \n",
    "                                                     retention['retained'],\n",
    "                                                     test_size = 0.30, \n",
    "                                                     random_state = 412))\n",
    "\n",
    "cols = list(X_train.columns.values)\n",
    "\n",
    "#categorical columns\n",
    "cat_cols = [\"city_King's Landing\",\n",
    "            \"city_Winterfell\",\n",
    "            \"phone_iPhone\"]\n",
    "\n",
    "#continuous columns\n",
    "cont_cols = [i for i in cols if i not in cat_cols]"
   ]
  },
  {
   "cell_type": "code",
   "execution_count": 24,
   "metadata": {},
   "outputs": [
    {
     "name": "stdout",
     "output_type": "stream",
     "text": [
      "---------------------------------\n",
      "SGDClassifier(alpha=0.0001, average=False, class_weight='balanced',\n",
      "       epsilon=0.1, eta0=0.0, fit_intercept=True, l1_ratio=0.15,\n",
      "       learning_rate='optimal', loss='log', max_iter=120, n_iter=None,\n",
      "       n_jobs=1, penalty='elasticnet', power_t=0.5, random_state=None,\n",
      "       shuffle=True, tol=None, verbose=0, warm_start=False)\n",
      "-----------------------------------\n",
      "fit_time  mean  0.5984868049621582\n",
      "fit_time  std  0.014841833715340312\n",
      "score_time  mean  0.0045318126678466795\n",
      "score_time  std  0.00042246764173171095\n",
      "test_score  mean  0.6705616352682204\n",
      "test_score  std  0.027778890283941555\n",
      "---------------------------------\n",
      "KNeighborsClassifier(algorithm='auto', leaf_size=30, metric='minkowski',\n",
      "           metric_params=None, n_jobs=1, n_neighbors=5, p=2,\n",
      "           weights='uniform')\n",
      "-----------------------------------\n",
      "fit_time  mean  0.4027907371520996\n",
      "fit_time  std  0.015294341197685371\n",
      "score_time  mean  0.46384639739990235\n",
      "score_time  std  0.033587822198676245\n",
      "test_score  mean  0.40341256684345933\n",
      "test_score  std  0.011217991826128601\n",
      "---------------------------------\n",
      "RandomForestClassifier(bootstrap=True, class_weight='balanced',\n",
      "            criterion='gini', max_depth=None, max_features='auto',\n",
      "            max_leaf_nodes=None, min_impurity_decrease=0.0,\n",
      "            min_impurity_split=None, min_samples_leaf=1,\n",
      "            min_samples_split=2, min_weight_fraction_leaf=0.0,\n",
      "            n_estimators=10, n_jobs=1, oob_score=False, random_state=None,\n",
      "            verbose=0, warm_start=False)\n",
      "-----------------------------------\n",
      "fit_time  mean  0.249161434173584\n",
      "fit_time  std  0.0027636107720933074\n",
      "score_time  mean  0.02371377944946289\n",
      "score_time  std  0.0010441247342195996\n",
      "test_score  mean  0.35070544088006683\n",
      "test_score  std  0.009632042719008872\n",
      "---------------------------------\n",
      "SVC(C=1.0, cache_size=200, class_weight=None, coef0=0.0,\n",
      "  decision_function_shape='ovr', degree=3, gamma='auto', kernel='rbf',\n",
      "  max_iter=-1, probability=False, random_state=None, shrinking=True,\n",
      "  tol=0.001, verbose=False)\n",
      "-----------------------------------\n",
      "fit_time  mean  15.819618558883667\n",
      "fit_time  std  0.27788160179716637\n",
      "score_time  mean  1.9644067764282227\n",
      "score_time  std  0.03819641948689339\n",
      "test_score  mean  0.26633192591095545\n",
      "test_score  std  0.005883619446087297\n",
      "---------------------------------\n",
      "AdaBoostClassifier(algorithm='SAMME.R', base_estimator=None,\n",
      "          learning_rate=1.0, n_estimators=50, random_state=None)\n",
      "-----------------------------------\n",
      "fit_time  mean  0.554787540435791\n",
      "fit_time  std  0.0031122097147975552\n",
      "score_time  mean  0.036083316802978514\n",
      "score_time  std  0.0016230249788130346\n",
      "test_score  mean  0.39207573862363926\n",
      "test_score  std  0.008828405596323915\n",
      "---------------------------------\n",
      "GradientBoostingClassifier(criterion='friedman_mse', init=None,\n",
      "              learning_rate=0.1, loss='deviance', max_depth=3,\n",
      "              max_features=None, max_leaf_nodes=None,\n",
      "              min_impurity_decrease=0.0, min_impurity_split=None,\n",
      "              min_samples_leaf=1, min_samples_split=2,\n",
      "              min_weight_fraction_leaf=0.0, n_estimators=100,\n",
      "              presort='auto', random_state=None, subsample=1.0, verbose=0,\n",
      "              warm_start=False)\n",
      "-----------------------------------\n",
      "fit_time  mean  1.3636054515838623\n",
      "fit_time  std  0.036597913540192865\n",
      "score_time  mean  0.015349960327148438\n",
      "score_time  std  0.0007945573437871949\n",
      "test_score  mean  0.39382759713126175\n",
      "test_score  std  0.014618460370882503\n"
     ]
    }
   ],
   "source": [
    "pipeline = make_pipline(cont_cols, cat_cols)\n",
    "\n",
    "#Create a list of classifiers to test#Create  \n",
    "clfs = []\n",
    "clfs.append(SGDClassifier(loss = 'log', penalty = 'elasticnet', max_iter = 120, class_weight = 'balanced'))\n",
    "clfs.append(KNeighborsClassifier())\n",
    "clfs.append(RandomForestClassifier( class_weight = 'balanced'))\n",
    "clfs.append(SVC())\n",
    "clfs.append(AdaBoostClassifier())\n",
    "clfs.append(GradientBoostingClassifier())\n",
    "\n",
    "#Run through the pipeline for each classifier in the list\n",
    "#Can take awhile to run\n",
    "for classifier in clfs:\n",
    "    pipeline.set_params(clf = classifier)\n",
    "    scores = cross_validate(pipeline, X_train, y_train, scoring = 'recall', return_train_score = False, cv = 5)\n",
    "    print('---------------------------------')\n",
    "    print(str(classifier))\n",
    "    print('-----------------------------------')\n",
    "    for key, values in scores.items():\n",
    "            print(key,' mean ', values.mean())\n",
    "            print(key,' std ', values.std())"
   ]
  },
  {
   "cell_type": "code",
   "execution_count": 25,
   "metadata": {},
   "outputs": [
    {
     "name": "stdout",
     "output_type": "stream",
     "text": [
      "Fitting 10 folds for each of 25 candidates, totalling 250 fits\n"
     ]
    },
    {
     "name": "stderr",
     "output_type": "stream",
     "text": [
      "[Parallel(n_jobs=1)]: Done 250 out of 250 | elapsed:  3.1min finished\n"
     ]
    },
    {
     "name": "stdout",
     "output_type": "stream",
     "text": [
      "Parameters: {'clf__l1_ratio': 1.0}\n",
      "Best accuracy Score: 0.6821428571428572\n"
     ]
    },
    {
     "data": {
      "image/png": "[encoded data removed]",
      "text/plain": [
       "<Figure size 432x288 with 1 Axes>"
      ]
     },
     "metadata": {},
     "output_type": "display_data"
    },
    {
     "name": "stdout",
     "output_type": "stream",
     "text": [
      "Confusion Matrix: \n",
      " [[7590 3769]\n",
      " [1159 2482]]\n",
      "Accuracy: 67.147%\n",
      "Recall: 68.168%\n",
      "Precision: 39.706%\n"
     ]
    }
   ],
   "source": [
    "#logistic regression performs best\n",
    "#do grid search to tune hyperparameters\n",
    "\n",
    "param_grid = {\n",
    "    'clf__l1_ratio' :  np.linspace(0,1,25),\n",
    "    }\n",
    "\n",
    "metric = 'accuracy'\n",
    "\n",
    "pipeline = make_pipline(cont_cols, cat_cols)\n",
    "model = grid_search_train(X_train, y_train, pipeline, param_grid, metric = metric)\n",
    "roc_stats(X_test, y_test, model)"
   ]
  },
  {
   "cell_type": "code",
   "execution_count": 26,
   "metadata": {},
   "outputs": [
    {
     "data": {
      "text/html": [
       "<div>\n",
       "<style scoped>\n",
       "    .dataframe tbody tr th:only-of-type {\n",
       "        vertical-align: middle;\n",
       "    }\n",
       "\n",
       "    .dataframe tbody tr th {\n",
       "        vertical-align: top;\n",
       "    }\n",
       "\n",
       "    .dataframe thead th {\n",
       "        text-align: right;\n",
       "    }\n",
       "</style>\n",
       "<table border=\"1\" class=\"dataframe\">\n",
       "  <thead>\n",
       "    <tr style=\"text-align: right;\">\n",
       "      <th></th>\n",
       "      <th>features</th>\n",
       "      <th>coefficients</th>\n",
       "    </tr>\n",
       "  </thead>\n",
       "  <tbody>\n",
       "    <tr>\n",
       "      <th>0</th>\n",
       "      <td>city_King's Landing</td>\n",
       "      <td>1.260221</td>\n",
       "    </tr>\n",
       "    <tr>\n",
       "      <th>1</th>\n",
       "      <td>phone_iPhone</td>\n",
       "      <td>0.981353</td>\n",
       "    </tr>\n",
       "    <tr>\n",
       "      <th>2</th>\n",
       "      <td>city_Winterfell</td>\n",
       "      <td>0.533947</td>\n",
       "    </tr>\n",
       "    <tr>\n",
       "      <th>3</th>\n",
       "      <td>trips_in_first_30_days</td>\n",
       "      <td>0.401481</td>\n",
       "    </tr>\n",
       "    <tr>\n",
       "      <th>4</th>\n",
       "      <td>ultimate_black_user</td>\n",
       "      <td>0.311576</td>\n",
       "    </tr>\n",
       "    <tr>\n",
       "      <th>5</th>\n",
       "      <td>avg_dist</td>\n",
       "      <td>-0.248794</td>\n",
       "    </tr>\n",
       "    <tr>\n",
       "      <th>6</th>\n",
       "      <td>surge_pct</td>\n",
       "      <td>0.058153</td>\n",
       "    </tr>\n",
       "    <tr>\n",
       "      <th>7</th>\n",
       "      <td>avg_rating_by_driver</td>\n",
       "      <td>-0.030111</td>\n",
       "    </tr>\n",
       "    <tr>\n",
       "      <th>8</th>\n",
       "      <td>weekday_pct</td>\n",
       "      <td>-0.021369</td>\n",
       "    </tr>\n",
       "    <tr>\n",
       "      <th>9</th>\n",
       "      <td>avg_rating_of_driver</td>\n",
       "      <td>0.000000</td>\n",
       "    </tr>\n",
       "    <tr>\n",
       "      <th>10</th>\n",
       "      <td>avg_surge</td>\n",
       "      <td>0.000000</td>\n",
       "    </tr>\n",
       "  </tbody>\n",
       "</table>\n",
       "</div>"
      ],
      "text/plain": [
       "                  features  coefficients\n",
       "0      city_King's Landing      1.260221\n",
       "1             phone_iPhone      0.981353\n",
       "2          city_Winterfell      0.533947\n",
       "3   trips_in_first_30_days      0.401481\n",
       "4      ultimate_black_user      0.311576\n",
       "5                 avg_dist     -0.248794\n",
       "6                surge_pct      0.058153\n",
       "7     avg_rating_by_driver     -0.030111\n",
       "8              weekday_pct     -0.021369\n",
       "9     avg_rating_of_driver      0.000000\n",
       "10               avg_surge      0.000000"
      ]
     },
     "execution_count": 26,
     "metadata": {},
     "output_type": "execute_result"
    }
   ],
   "source": [
    "#get coefficients\n",
    "coefficients = get_coeff(model, cols)['coefficients'].reset_index()\n",
    "coefficients"
   ]
  },
  {
   "cell_type": "markdown",
   "metadata": {},
   "source": [
    "## Conclusion\n",
    "\n",
    "To improve rider retention, Ultimate should examine users who the model predicts will not be retained. In general, these are users from Astapor, using Android, taking fewer trips in first 30 dats, and do not use the ultimate black service.  There are many ways to explore improving user retention given this information:\n",
    "1. <b>Improve Android Issues</b>- Android users are much less likely to be retained compared to iPhone users, suggesting there may be usability issues on Android\n",
    "2. <b>Incentives for Astapor users</b> - Astapor users are much less likely to be retained compared to users from other cities.  Perhaps it is less convenient to use Ultimate's service for Astapor users. This may be for a variety of reasons, lack of drivers in the area, cost is prohibitive for socioeconomic situation of Astapor users, better alternatives or competitors in Astapor area. To improve retention among Astapor users, we may need to include additional incentives for these users or increase ease of use for them (ie: increase supply of drivers in their area).\n",
    "3. <b>Increase usage in first month</b> - Users with fewer trips in the first 30 days are less likely to be retained, indicating that early habits are indicative of longterm retention.  Incentives to get new users in the habit of using Ultimate could increase retention (ie: new user promotions or gamification).  Similarly users who do not use Ultimate Black service are less likely to be retained.  This could be an indicator that users who are interested in the deluxe experience are more likely to keep using Ultimate.  However, it could also suggest that users who try the Ultimate Black service will enjoy it and stick with the service.  In that case, it may be worthwhile to get new users to try the Ultimate Black service to see if it improves retention.\n"
   ]
  },
  {
   "cell_type": "code",
   "execution_count": null,
   "metadata": {},
   "outputs": [],
   "source": []
  }
 ],
 "metadata": {
  "kernelspec": {
   "display_name": "Python 3",
   "language": "python",
   "name": "python3"
  },
  "language_info": {
   "codemirror_mode": {
    "name": "ipython",
    "version": 3
   },
   "file_extension": ".py",
   "mimetype": "text/x-python",
   "name": "python",
   "nbconvert_exporter": "python",
   "pygments_lexer": "ipython3",
   "version": "3.6.5"
  }
 },
 "nbformat": 4,
 "nbformat_minor": 2
}
